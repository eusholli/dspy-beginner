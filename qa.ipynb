{
  "cells": [
    {
      "cell_type": "markdown",
      "metadata": {
        "id": "view-in-github",
        "colab_type": "text"
      },
      "source": [
        "<a href=\"https://colab.research.google.com/github/eusholli/dspy-beginner/blob/main/qa.ipynb\" target=\"_parent\"><img src=\"https://colab.research.google.com/assets/colab-badge.svg\" alt=\"Open In Colab\"/></a>"
      ]
    },
    {
      "cell_type": "markdown",
      "metadata": {
        "id": "sH0olM0ApgHr"
      },
      "source": [
        "# 🚀 Introduction to DSPy: Your First AI Program (V2)\n",
        "\n",
        "Welcome! This notebook will walk you through setting up and using **DSPy**, a powerful framework for programming with Large Language Models (LLMs). We'll build a simple Question-Answering program using a free model from OpenRouter."
      ],
      "id": "sH0olM0ApgHr"
    },
    {
      "cell_type": "markdown",
      "metadata": {
        "id": "-wkM3fl9pgHs"
      },
      "source": [
        "### Cell 2: Install Libraries"
      ],
      "id": "-wkM3fl9pgHs"
    },
    {
      "cell_type": "code",
      "execution_count": 1,
      "metadata": {
        "colab": {
          "base_uri": "https://localhost:8080/"
        },
        "id": "Install_Libraries",
        "outputId": "c653d802-5ec0-4c38-c694-284eb4e83849"
      },
      "outputs": [
        {
          "output_type": "stream",
          "name": "stdout",
          "text": [
            "Requirement already satisfied: pip in /usr/local/lib/python3.11/dist-packages (24.1.2)\n",
            "Collecting pip\n",
            "  Downloading pip-25.2-py3-none-any.whl.metadata (4.7 kB)\n",
            "Downloading pip-25.2-py3-none-any.whl (1.8 MB)\n",
            "\u001b[2K   \u001b[90m━━━━━━━━━━━━━━━━━━━━━━━━━━━━━━━━━━━━━━━━\u001b[0m \u001b[32m1.8/1.8 MB\u001b[0m \u001b[31m17.2 MB/s\u001b[0m eta \u001b[36m0:00:00\u001b[0m\n",
            "\u001b[?25hInstalling collected packages: pip\n",
            "  Attempting uninstall: pip\n",
            "    Found existing installation: pip 24.1.2\n",
            "    Uninstalling pip-24.1.2:\n",
            "      Successfully uninstalled pip-24.1.2\n",
            "Successfully installed pip-25.2\n",
            "  Installing build dependencies ... \u001b[?25l\u001b[?25hdone\n",
            "  Getting requirements to build wheel ... \u001b[?25l\u001b[?25hdone\n",
            "  Preparing metadata (pyproject.toml) ... \u001b[?25l\u001b[?25hdone\n",
            "  Building wheel for litellm (pyproject.toml) ... \u001b[?25l\u001b[?25hdone\n"
          ]
        }
      ],
      "source": [
        "%pip install --upgrade pip\n",
        "%pip install dspy"
      ],
      "id": "Install_Libraries"
    },
    {
      "cell_type": "markdown",
      "metadata": {
        "id": "dXGmvtpFpgHs"
      },
      "source": [
        "## Step 1: Get Your OpenRouter API Key\n",
        "\n",
        "To use an LLM, you need an API key. We'll use **OpenRouter**, a service that gives you access to many different models.\n",
        "\n",
        "1.  **Create an Account**: Go to [OpenRouter.ai](https://openrouter.ai/) and sign up.\n",
        "2.  **Add Credits**: While some models are \"free,\" they can be unreliable. It is **highly recommended** to add a small amount of funds (e.g., $1.00) to your account for stability. Go to the **Billing** section to add credits.\n",
        "3.  **Create an API Key**:\n",
        "    * Click your profile icon (top right) -> **Keys**.\n",
        "    * Click **+ Create Key**, give it a name (e.g., `dspy-colab-key`), and click **Create**.\n",
        "4.  **Copy Your Key**: Copy the key that starts with `sk-or-v1-...`. **Save it immediately, as you won't be able to see it again.**"
      ],
      "id": "dXGmvtpFpgHs"
    },
    {
      "cell_type": "markdown",
      "metadata": {
        "id": "7FkoEqC6pgHs"
      },
      "source": [
        "## Step 2: Securely Store Your API Key in Colab\n",
        "\n",
        "Never paste API keys directly in your code. Use Colab's \"Secrets\" feature.\n",
        "\n",
        "1.  Click the **key icon (🔑)** on the left sidebar of Colab.\n",
        "2.  Click **+ Add a new secret**.\n",
        "3.  For the **Name**, enter `OPENROUTER_API_KEY`.\n",
        "4.  In the **Value** field, paste your key from OpenRouter.\n",
        "5.  **Enable** the \"Notebook access\" toggle switch."
      ],
      "id": "7FkoEqC6pgHs"
    },
    {
      "cell_type": "code",
      "execution_count": null,
      "metadata": {
        "id": "3tMm3SAXpgHt"
      },
      "outputs": [],
      "source": [
        "import dspy\n",
        "import os\n",
        "from google.colab import userdata\n",
        "\n",
        "# Attempt to get the API key from Colab secrets\n",
        "try:\n",
        "    openrouter_api_key = userdata.get('OPENROUTER_API_KEY')\n",
        "    os.environ[\"OPENROUTER_API_KEY\"] = openrouter_api_key\n",
        "    print(\"✅ API Key loaded successfully!\")\n",
        "    # The line below is a safe way to check if the key is loaded without printing the whole key\n",
        "    print(f\"   Your key starts with: {openrouter_api_key[:7]}...\")\n",
        "except Exception as e:\n",
        "    print(\"🚨 Could not load API key.\")\n",
        "    print(\"   Please go back to Step 2 and make sure your secret is named 'OPENROUTER_API_KEY' and 'Notebook access' is enabled.\")"
      ],
      "id": "3tMm3SAXpgHt"
    },
    {
      "cell_type": "code",
      "execution_count": null,
      "metadata": {
        "id": "-6f3vPo7pgHt"
      },
      "outputs": [],
      "source": [
        "# Configure the language model (LM)\n",
        "# We use google/gemma-7b-it:free which is a reliable free model on OpenRouter.\n",
        "llm = dspy.OpenRouter(model='google/gemma-7b-it:free', max_tokens=250)\n",
        "\n",
        "# Tell DSPy what Language Model to use\n",
        "dspy.settings.configure(lm=llm)\n",
        "\n",
        "print(\"✅ DSPy configured to use Google Gemma via OpenRouter.\")"
      ],
      "id": "-6f3vPo7pgHt"
    },
    {
      "cell_type": "code",
      "execution_count": null,
      "metadata": {
        "id": "WDXTnhedpgHt"
      },
      "outputs": [],
      "source": [
        "class BasicQA(dspy.Signature):\n",
        "    \"\"\"Answer questions with short, concise answers.\"\"\"\n",
        "\n",
        "    question = dspy.InputField()\n",
        "    answer = dspy.OutputField(desc=\"A short, factual answer, often between 10 and 20 words.\")\n",
        "\n",
        "print(\"✅ Program signature defined.\")"
      ],
      "id": "WDXTnhedpgHt"
    },
    {
      "cell_type": "code",
      "execution_count": null,
      "metadata": {
        "id": "Ct0nntSQpgHt"
      },
      "outputs": [],
      "source": [
        "# Create an instance of our program\n",
        "generate_answer = dspy.Predict(BasicQA)\n",
        "\n",
        "# Define a question\n",
        "my_question = \"What is the primary purpose of a CPU in a computer?\"\n",
        "\n",
        "print(f\"🤔 Question: {my_question}\")\n",
        "\n",
        "# Run the program and get the prediction\n",
        "try:\n",
        "    prediction = generate_answer(question=my_question)\n",
        "    print(f\"🤖 Answer: {prediction.answer}\")\n",
        "\n",
        "except Exception as e:\n",
        "    print(\"\\n🚨 An error occurred while running the program.\")\n",
        "    print(\"   This could be due to an invalid API key, insufficient funds on OpenRouter, or the model being temporarily unavailable.\")\n",
        "    print(f\"   Error details: {e}\")"
      ],
      "id": "Ct0nntSQpgHt"
    }
  ],
  "metadata": {
    "colab": {
      "provenance": [],
      "include_colab_link": true
    },
    "kernelspec": {
      "display_name": "venv",
      "language": "python",
      "name": "python3"
    },
    "language_info": {
      "codemirror_mode": {
        "name": "ipython",
        "version": 3
      },
      "file_extension": ".py",
      "mimetype": "text/x-python",
      "name": "python",
      "nbconvert_exporter": "python",
      "pygments_lexer": "ipython3",
      "version": "3.12.9"
    }
  },
  "nbformat": 4,
  "nbformat_minor": 5
}